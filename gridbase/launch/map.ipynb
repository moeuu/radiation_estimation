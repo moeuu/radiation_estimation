{
 "cells": [
  {
   "cell_type": "code",
   "execution_count": null,
   "metadata": {},
   "outputs": [],
   "source": [
    "import cv2\n",
    "import numpy as np\n",
    "import yaml\n",
    "import matplotlib.pyplot as plt"
   ]
  },
  {
   "cell_type": "code",
   "execution_count": null,
   "metadata": {},
   "outputs": [],
   "source": [
    "# PGMファイルの読み込み\n",
    "map_image = cv2.imread('/home/morita/ros2_ws/result/map.pgm', cv2.IMREAD_GRAYSCALE)\n",
    "\n",
    "# 占有グリッドマップの二値化\n",
    "threshold = 127\n",
    "_, binary_map = cv2.threshold(map_image, threshold, 255, cv2.THRESH_BINARY)\n"
   ]
  },
  {
   "cell_type": "code",
   "execution_count": null,
   "metadata": {},
   "outputs": [],
   "source": [
    "with open('/home/morita/ros2_ws/result/map.yaml', 'r') as file:\n",
    "    map_metadata = yaml.safe_load(file)\n",
    "\n",
    "resolution = map_metadata['resolution']\n",
    "origin = map_metadata['origin']\n"
   ]
  },
  {
   "cell_type": "code",
   "execution_count": null,
   "metadata": {},
   "outputs": [],
   "source": [
    "height = 1.0  # 高さの任意の値\n",
    "height_map = binary_map * height / 255.0  # 高さ情報を正規化\n"
   ]
  },
  {
   "cell_type": "code",
   "execution_count": null,
   "metadata": {},
   "outputs": [],
   "source": [
    "grid_size = 10  # グリッドのサイズ（ピクセル単位）\n",
    "grid_height, grid_width = height_map.shape\n",
    "\n",
    "# グリッドの数\n",
    "num_grids_x = grid_width // grid_size\n",
    "num_grids_y = grid_height // grid_size\n",
    "\n",
    "# グリッド分割\n",
    "grids = []\n",
    "for i in range(num_grids_y):\n",
    "    for j in range(num_grids_x):\n",
    "        grid = height_map[i*grid_size:(i+1)*grid_size, j*grid_size:(j+1)*grid_size]\n",
    "        grids.append(grid)\n"
   ]
  },
  {
   "cell_type": "code",
   "execution_count": null,
   "metadata": {},
   "outputs": [],
   "source": [
    "\n",
    "\n",
    "# 3次元地図の表示\n",
    "plt.imshow(height_map, cmap='gray')\n",
    "plt.title('3D Map')\n",
    "plt.show()\n",
    "\n",
    "# グリッド分割の例の表示（最初のグリッド）\n",
    "plt.imshow(grids[0], cmap='gray')\n",
    "plt.title('Grid Example')\n",
    "plt.show()\n"
   ]
  }
 ],
 "metadata": {
  "language_info": {
   "name": "python"
  }
 },
 "nbformat": 4,
 "nbformat_minor": 2
}
